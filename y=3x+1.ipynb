{
 "cells": [
  {
   "cell_type": "code",
   "execution_count": 71,
   "metadata": {},
   "outputs": [],
   "source": [
    "import numpy as np\n",
    "import tensorflow as tf\n",
    "from tensorflow import keras\n"
   ]
  },
  {
   "cell_type": "code",
   "execution_count": 72,
   "metadata": {},
   "outputs": [],
   "source": [
    "model = tf.keras.Sequential([keras.layers.Dense(units=1 , input_shape=[1])])\n",
    "model.compile(optimizer='sgd', loss='mean_squared_error')\n"
   ]
  },
  {
   "cell_type": "code",
   "execution_count": 73,
   "metadata": {},
   "outputs": [],
   "source": [
    "xs = np.array([-1.0, 0.0, 1.1, 2.2, 3.0, 4.0, 5.3, 10.0, 20.0,], dtype=float)\n",
    "ys = np.array([-2.0 ,1.0, 4.3, 7.6, 10.0, 13.0, 16.9, 31.0, 61.0,], dtype=float)\n"
   ]
  },
  {
   "cell_type": "code",
   "execution_count": 80,
   "metadata": {},
   "outputs": [
    {
     "name": "stdout",
     "output_type": "stream",
     "text": [
      "Train on 9 samples\n",
      "Epoch 1/50\n",
      "9/9 [==============================] - 0s 557us/sample - loss: 0.0038\n",
      "Epoch 2/50\n",
      "9/9 [==============================] - 0s 223us/sample - loss: 0.0037\n",
      "Epoch 3/50\n",
      "9/9 [==============================] - 0s 334us/sample - loss: 0.0036\n",
      "Epoch 4/50\n",
      "9/9 [==============================] - 0s 334us/sample - loss: 0.0035\n",
      "Epoch 5/50\n",
      "9/9 [==============================] - 0s 223us/sample - loss: 0.0034\n",
      "Epoch 6/50\n",
      "9/9 [==============================] - 0s 334us/sample - loss: 0.0033\n",
      "Epoch 7/50\n",
      "9/9 [==============================] - 0s 782us/sample - loss: 0.0032\n",
      "Epoch 8/50\n",
      "9/9 [==============================] - 0s 335us/sample - loss: 0.0032\n",
      "Epoch 9/50\n",
      "9/9 [==============================] - 0s 334us/sample - loss: 0.0031\n",
      "Epoch 10/50\n",
      "9/9 [==============================] - 0s 1ms/sample - loss: 0.0030\n",
      "Epoch 11/50\n",
      "9/9 [==============================] - 0s 446us/sample - loss: 0.0029\n",
      "Epoch 12/50\n",
      "9/9 [==============================] - 0s 222us/sample - loss: 0.0029\n",
      "Epoch 13/50\n",
      "9/9 [==============================] - 0s 334us/sample - loss: 0.0028\n",
      "Epoch 14/50\n",
      "9/9 [==============================] - 0s 556us/sample - loss: 0.0027\n",
      "Epoch 15/50\n",
      "9/9 [==============================] - 0s 334us/sample - loss: 0.0027\n",
      "Epoch 16/50\n",
      "9/9 [==============================] - 0s 446us/sample - loss: 0.0026\n",
      "Epoch 17/50\n",
      "9/9 [==============================] - 0s 668us/sample - loss: 0.0025\n",
      "Epoch 18/50\n",
      "9/9 [==============================] - 0s 223us/sample - loss: 0.0025\n",
      "Epoch 19/50\n",
      "9/9 [==============================] - 0s 445us/sample - loss: 0.0024\n",
      "Epoch 20/50\n",
      "9/9 [==============================] - 0s 665us/sample - loss: 0.0024\n",
      "Epoch 21/50\n",
      "9/9 [==============================] - 0s 334us/sample - loss: 0.0023\n",
      "Epoch 22/50\n",
      "9/9 [==============================] - 0s 334us/sample - loss: 0.0023\n",
      "Epoch 23/50\n",
      "9/9 [==============================] - 0s 780us/sample - loss: 0.0022\n",
      "Epoch 24/50\n",
      "9/9 [==============================] - 0s 222us/sample - loss: 0.0022\n",
      "Epoch 25/50\n",
      "9/9 [==============================] - 0s 334us/sample - loss: 0.0021\n",
      "Epoch 26/50\n",
      "9/9 [==============================] - 0s 1ms/sample - loss: 0.0020\n",
      "Epoch 27/50\n",
      "9/9 [==============================] - 0s 390us/sample - loss: 0.0020\n",
      "Epoch 28/50\n",
      "9/9 [==============================] - 0s 613us/sample - loss: 0.0020\n",
      "Epoch 29/50\n",
      "9/9 [==============================] - 0s 223us/sample - loss: 0.0019\n",
      "Epoch 30/50\n",
      "9/9 [==============================] - 0s 334us/sample - loss: 0.0019\n",
      "Epoch 31/50\n",
      "9/9 [==============================] - 0s 724us/sample - loss: 0.0018\n",
      "Epoch 32/50\n",
      "9/9 [==============================] - 0s 334us/sample - loss: 0.0018\n",
      "Epoch 33/50\n",
      "9/9 [==============================] - 0s 279us/sample - loss: 0.0017\n",
      "Epoch 34/50\n",
      "9/9 [==============================] - 0s 391us/sample - loss: 0.0017\n",
      "Epoch 35/50\n",
      "9/9 [==============================] - 0s 614us/sample - loss: 0.0016\n",
      "Epoch 36/50\n",
      "9/9 [==============================] - 0s 334us/sample - loss: 0.0016\n",
      "Epoch 37/50\n",
      "9/9 [==============================] - 0s 334us/sample - loss: 0.0016\n",
      "Epoch 38/50\n",
      "9/9 [==============================] - 0s 278us/sample - loss: 0.0015\n",
      "Epoch 39/50\n",
      "9/9 [==============================] - 0s 223us/sample - loss: 0.0015\n",
      "Epoch 40/50\n",
      "9/9 [==============================] - 0s 334us/sample - loss: 0.0015\n",
      "Epoch 41/50\n",
      "9/9 [==============================] - 0s 278us/sample - loss: 0.0014\n",
      "Epoch 42/50\n",
      "9/9 [==============================] - 0s 279us/sample - loss: 0.0014\n",
      "Epoch 43/50\n",
      "9/9 [==============================] - 0s 389us/sample - loss: 0.0014\n",
      "Epoch 44/50\n",
      "9/9 [==============================] - 0s 278us/sample - loss: 0.0013\n",
      "Epoch 45/50\n",
      "9/9 [==============================] - 0s 278us/sample - loss: 0.0013\n",
      "Epoch 46/50\n",
      "9/9 [==============================] - 0s 334us/sample - loss: 0.0013\n",
      "Epoch 47/50\n",
      "9/9 [==============================] - 0s 724us/sample - loss: 0.0012\n",
      "Epoch 48/50\n",
      "9/9 [==============================] - 0s 223us/sample - loss: 0.0012\n",
      "Epoch 49/50\n",
      "9/9 [==============================] - 0s 390us/sample - loss: 0.0012\n",
      "Epoch 50/50\n",
      "9/9 [==============================] - 0s 334us/sample - loss: 0.0011\n"
     ]
    },
    {
     "data": {
      "text/plain": [
       "<tensorflow.python.keras.callbacks.History at 0x4f8e2de1c8>"
      ]
     },
     "execution_count": 80,
     "metadata": {},
     "output_type": "execute_result"
    }
   ],
   "source": [
    "model.fit(xs, ys, epochs=50)"
   ]
  },
  {
   "cell_type": "code",
   "execution_count": 81,
   "metadata": {},
   "outputs": [
    {
     "name": "stdout",
     "output_type": "stream",
     "text": [
      "[[241.2335]]\n"
     ]
    }
   ],
   "source": [
    "print(model.predict([80]))"
   ]
  },
  {
   "cell_type": "code",
   "execution_count": 82,
   "metadata": {},
   "outputs": [
    {
     "name": "stdout",
     "output_type": "stream",
     "text": [
      "[[30.991575]]\n"
     ]
    }
   ],
   "source": [
    "print(model.predict([10]))"
   ]
  },
  {
   "cell_type": "code",
   "execution_count": null,
   "metadata": {},
   "outputs": [],
   "source": []
  },
  {
   "cell_type": "code",
   "execution_count": null,
   "metadata": {},
   "outputs": [],
   "source": []
  }
 ],
 "metadata": {
  "kernelspec": {
   "display_name": "Python 3",
   "language": "python",
   "name": "python3"
  },
  "language_info": {
   "codemirror_mode": {
    "name": "ipython",
    "version": 3
   },
   "file_extension": ".py",
   "mimetype": "text/x-python",
   "name": "python",
   "nbconvert_exporter": "python",
   "pygments_lexer": "ipython3",
   "version": "3.7.7"
  }
 },
 "nbformat": 4,
 "nbformat_minor": 4
}
